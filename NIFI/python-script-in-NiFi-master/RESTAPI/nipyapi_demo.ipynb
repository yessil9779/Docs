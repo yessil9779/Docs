{
 "cells": [
  {
   "cell_type": "markdown",
   "metadata": {},
   "source": [
    "# DEMO for PyconTW 2019"
   ]
  },
  {
   "cell_type": "code",
   "execution_count": 30,
   "metadata": {},
   "outputs": [],
   "source": [
    "from nipyapi import canvas, system, templates\n",
    "from nipyapi.nifi import configuration as nifi_config"
   ]
  },
  {
   "cell_type": "code",
   "execution_count": 3,
   "metadata": {},
   "outputs": [],
   "source": [
    "# setup NiFi instance\n",
    "nifi_config.host = 'http://localhost:38080/nifi-api'"
   ]
  },
  {
   "cell_type": "markdown",
   "metadata": {},
   "source": [
    "# Canvas"
   ]
  },
  {
   "cell_type": "code",
   "execution_count": null,
   "metadata": {},
   "outputs": [],
   "source": [
    "# Return the UUID of the Root Process Group\n",
    "# default PG : root\n",
    "canvas.get_root_pg_id()"
   ]
  },
  {
   "cell_type": "code",
   "execution_count": null,
   "metadata": {},
   "outputs": [],
   "source": [
    "# Return information about a Process Group and flow.\n",
    "canvas.get_flow('3b018ebb-016d-1000-52f2-bd1d0807dfaa')"
   ]
  },
  {
   "cell_type": "code",
   "execution_count": null,
   "metadata": {},
   "outputs": [],
   "source": [
    "# Return the info of bulletin_board\n",
    "canvas.get_bulletin_board()"
   ]
  },
  {
   "cell_type": "code",
   "execution_count": null,
   "metadata": {
    "scrolled": false
   },
   "outputs": [],
   "source": [
    "# Returns information about a Process Group and all its Child Flows. \n",
    "cdanvas.recurse_flow(pg_id='root')"
   ]
  },
  {
   "cell_type": "code",
   "execution_count": null,
   "metadata": {},
   "outputs": [],
   "source": [
    "# Return a flat list of all Processors under the provided Process Group\n",
    "# demo pg_id: 3b184cc0-016d-1000-ce75-54144ef1438f\n",
    "canvas.list_all_processors('3b184cc0-016d-1000-ce75-54144ef1438f')"
   ]
  },
  {
   "cell_type": "code",
   "execution_count": null,
   "metadata": {},
   "outputs": [],
   "source": [
    "# Get a specific Processor object from processor id\n",
    "p = canvas.get_processor('3b18d9b8-016d-1000-a975-7e0a99c7d704', 'id')\n",
    "print(p)"
   ]
  },
  {
   "cell_type": "code",
   "execution_count": null,
   "metadata": {},
   "outputs": [],
   "source": [
    "# STOP a specific processor\n",
    "canvas.schedule_processor(p,scheduled=False)"
   ]
  },
  {
   "cell_type": "code",
   "execution_count": 16,
   "metadata": {},
   "outputs": [],
   "source": [
    "# Stop all processors\n",
    "_ = [canvas.schedule_processor(li, scheduled=False) for li in canvas.list_all_processors()]"
   ]
  },
  {
   "cell_type": "code",
   "execution_count": null,
   "metadata": {},
   "outputs": [],
   "source": [
    "# Get your ProcessGroup object (replae 'PyconTW 2019' with your pg name)\n",
    "pg = canvas.get_process_group('PyconTW 2019')\n",
    "print(pg)"
   ]
  },
  {
   "cell_type": "code",
   "execution_count": null,
   "metadata": {},
   "outputs": [],
   "source": [
    "# Get the VariableRegistry for that ProcessGroup\n",
    "vars = canvas.get_variable_registry(pg)\n",
    "vars.variable_registry.variables"
   ]
  },
  {
   "cell_type": "code",
   "execution_count": null,
   "metadata": {},
   "outputs": [],
   "source": [
    "# Stop PG and purge all queues\n",
    "canvas.purge_process_group(pg, stop=True)"
   ]
  },
  {
   "cell_type": "markdown",
   "metadata": {},
   "source": [
    "# Templates"
   ]
  },
  {
   "cell_type": "code",
   "execution_count": null,
   "metadata": {},
   "outputs": [],
   "source": [
    "# List all templates:\n",
    "templates.list_all_templates()"
   ]
  },
  {
   "cell_type": "markdown",
   "metadata": {},
   "source": [
    "# System"
   ]
  },
  {
   "cell_type": "code",
   "execution_count": null,
   "metadata": {},
   "outputs": [],
   "source": [
    "# Get Apache NiFi version info:\n",
    "system.get_nifi_version_info()"
   ]
  }
 ],
 "metadata": {
  "kernelspec": {
   "display_name": "ETL",
   "language": "python",
   "name": "etl"
  },
  "language_info": {
   "codemirror_mode": {
    "name": "ipython",
    "version": 3
   },
   "file_extension": ".py",
   "mimetype": "text/x-python",
   "name": "python",
   "nbconvert_exporter": "python",
   "pygments_lexer": "ipython3",
   "version": "3.7.1"
  }
 },
 "nbformat": 4,
 "nbformat_minor": 2
}
